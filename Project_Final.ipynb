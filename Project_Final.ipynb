{
 "cells": [
  {
   "cell_type": "markdown",
   "id": "d444fbb2-c6b6-4674-b3a7-4caf6199328e",
   "metadata": {},
   "source": [
    "Group Project 1"
   ]
  },
  {
   "cell_type": "markdown",
   "id": "95b63f0f-adee-4ca6-ad87-c742748617f3",
   "metadata": {},
   "source": [
    "Part 1: \n",
    "\n",
    "The below code outlines our data collection process. To collect our data, we used the free Event Registry API to collect article summaries on different topics from many different news sources. We chose to collect articles on Tesla because it is one of the largest companies in the world, and is very frequently discussed in the news. We believe this would result in a lot of discussion about it online, which would give us a lot of data to use. \n",
    "\n",
    "First, we created and EventRegistry object, which allowed us to use our API key, and a QueryEvents object to collect articles on Tesla. We were only able to get the 50 most recent articles due to limitations from the free API. Following that, we extracted the article summaries from our articles and formatted them as a list of strings to pass through our preprocessing stage. We believe this is a good process; we were able to get good, short article summaries from the websites. The only limitation is the limit of 50 articles for our query; this does not give us nearly enough data to do a very comprehensive analysis on the current sentiment of Tesla. More data from a paid API would allow us to better understand the current sentiment on Tesla. "
   ]
  },
  {
   "cell_type": "code",
   "execution_count": 1,
   "id": "f94ea539-6018-4868-8e2c-f3f841022597",
   "metadata": {},
   "outputs": [],
   "source": [
    "# Use API to get news sources\n",
    "\n",
    "import eventregistry\n",
    "import requests\n",
    "from eventregistry import * #used from NewsApi github page, the readme file\n",
    "\n",
    "api = \"ad26c405-f5ee-4187-b1b7-797a193d73f7\"\n",
    "\n",
    "er = EventRegistry(apiKey = api)\n",
    "q = QueryEvents(keywords = \"Tesla\")\n",
    "q.setRequestedResult(RequestEventsInfo(sortBy = \"date\", count = 50))   # request event details for latest 50 events\n",
    "\n",
    "# get the full list of 50 events at once\n",
    "data = er.execQuery(q)\n",
    "\n",
    "summaries = [[concept['label']['eng'] for concept in event['concepts']] for event in data['events']['results']] #extracting summaries was used from chatgpt\n",
    "\n",
    "def strip_summary(list_of_lists):\n",
    "    return_list = []\n",
    "    for summary in list_of_lists:\n",
    "        return_list.append(' '.join(summary))\n",
    "    return return_list\n",
    "\n",
    "summary_sentences = strip_summary(summaries)"
   ]
  },
  {
   "cell_type": "markdown",
   "id": "9b4d8528-c550-4e23-bb4b-1e94a9915935",
   "metadata": {},
   "source": [
    "In this step, we download and import all the necessary packages for our project. We use spacy, nltk, textblob, and vaderSentiment in steps 2 and 3. These packages allow us to effectively preprocess and analyze the sentiment of the data we collected. "
   ]
  },
  {
   "cell_type": "code",
   "execution_count": 3,
   "id": "30672e30-d5fd-4c2a-9a84-6e10648d93be",
   "metadata": {},
   "outputs": [
    {
     "name": "stderr",
     "output_type": "stream",
     "text": [
      "[nltk_data] Downloading package vader_lexicon to\n",
      "[nltk_data]     C:\\Users\\jack.hernon\\AppData\\Roaming\\nltk_data...\n",
      "[nltk_data]   Package vader_lexicon is already up-to-date!\n",
      "[nltk_data] Downloading package stopwords to\n",
      "[nltk_data]     C:\\Users\\jack.hernon\\AppData\\Roaming\\nltk_data...\n",
      "[nltk_data]   Package stopwords is already up-to-date!\n",
      "[nltk_data] Downloading package punkt to\n",
      "[nltk_data]     C:\\Users\\jack.hernon\\AppData\\Roaming\\nltk_data...\n",
      "[nltk_data]   Package punkt is already up-to-date!\n"
     ]
    },
    {
     "data": {
      "text/plain": [
       "True"
      ]
     },
     "execution_count": 3,
     "metadata": {},
     "output_type": "execute_result"
    }
   ],
   "source": [
    "# Import necessary packages and NLP requirements \n",
    "\n",
    "import spacy\n",
    "import nltk\n",
    "from nltk import word_tokenize\n",
    "from nltk.corpus import stopwords\n",
    "import textblob\n",
    "from textblob import TextBlob\n",
    "import vaderSentiment\n",
    "from nltk.sentiment.vader import SentimentIntensityAnalyzer\n",
    "nltk.download('vader_lexicon')\n",
    "nlp = spacy.load('en_core_web_sm')\n",
    "nltk.download('stopwords') \n",
    "stop_words = stopwords.words('english')\n",
    "nltk.download('punkt')"
   ]
  },
  {
   "cell_type": "markdown",
   "id": "5ab01eab-bcb6-4387-b79c-64c8c29ecaef",
   "metadata": {},
   "source": [
    "Part 2\n",
    "\n",
    "Below, we preprocess all our article summaries we collected from our API. First, we need to tokenize each article. Then, we remove all the stopwords from the articles. Following that, we remove all the punctuation and unimportant characters from the articles. To accomplish that, we remove any tokens that are not alphanumeric, to include punctuation and empty spaces. Finally, we lemmatize all the individual tokens to normalize the tokens in our articles. We created a funciton to automatically do this for all articles in our dataset. This takes the list of strings, preprocesses each article summary, and then returns a list of strings, where each string is the preprocessed article. "
   ]
  },
  {
   "cell_type": "code",
   "execution_count": 5,
   "id": "46b1c102-2f20-4305-bd87-ebfe7d6fb2d1",
   "metadata": {},
   "outputs": [],
   "source": [
    "# Preprocessing \n",
    "\n",
    "# Tokenize the tweets\n",
    "\n",
    "def tokenize_tweet(tweet): \n",
    "    return word_tokenize(tweet)\n",
    "\n",
    "# remove stopwords\n",
    "def remove_stopwords(token_list): \n",
    "    stopwords_dropped = [token for token in token_list if token.lower() not in stop_words]\n",
    "    return stopwords_dropped\n",
    "\n",
    "# remove all punctuatino and non-important tokens. \n",
    "def remove_punctuation(token_list): \n",
    "    punct_dropped = [token for token in token_list if token.isalnum()]\n",
    "    return punct_dropped\n",
    "\n",
    "\n",
    "# lemmatize the tweet\n",
    "def lemmatize_token_list(token_list): \n",
    "    token_nlp = nlp(' '.join(token_list))\n",
    "    lemma_tweet = [token.lemma_ for token in token_nlp]\n",
    "    return ' '.join(lemma_tweet)\n",
    "\n",
    "def preprocess_input(list_of_strings): \n",
    "    ret_list = []\n",
    "    for str in list_of_strings: \n",
    "        str1 = tokenize_tweet(str)\n",
    "        str2 = remove_stopwords(str1)\n",
    "        str3 = remove_punctuation(str2)\n",
    "        str4 = lemmatize_token_list(str3)\n",
    "        ret_list.append(str4)\n",
    "    return ret_list\n",
    "\n",
    "preprocess_arts = preprocess_input(summary_sentences)"
   ]
  },
  {
   "cell_type": "markdown",
   "id": "861d6ee9-45c9-4e98-99c7-f4c6890f8350",
   "metadata": {},
   "source": [
    "Part 3\n",
    "\n",
    "Below, we use the Vader model to conduct our initial sentiment analysis. For each preprocessed article, we use the vader_sent_analysis function to get the sentiment scores for the positive, negative, and neutral labels. After that, we find the highest value, and assign the article the corresponding label. Once we have compiled a list of all the classifications, we find the freqency of each label to calculate the proportion of each label from our dataset. "
   ]
  },
  {
   "cell_type": "code",
   "execution_count": 34,
   "id": "bc0638ec-5a3a-4e71-aea1-3c0dd978f66d",
   "metadata": {},
   "outputs": [
    {
     "data": {
      "text/plain": [
       "{'Positive': 0.68, 'Negative': 0.22, 'Neutral': 0.1}"
      ]
     },
     "execution_count": 34,
     "metadata": {},
     "output_type": "execute_result"
    }
   ],
   "source": [
    "# Step 3: Vader\n",
    "vader_sent_analysis = SentimentIntensityAnalyzer()\n",
    "\n",
    "def classify_with_vader(tweet):\n",
    "    scores = vader_analyzer.polarity_scores(tweet)\n",
    "    compound_score = scores['compound']\n",
    "    if compound_score >= 0.05:\n",
    "        return \"Positive\"\n",
    "    elif compound_score <= -0.05:\n",
    "        return \"Negative\"\n",
    "    else:\n",
    "        return \"Neutral\"\n",
    "\n",
    "def get_vader_results(list_of_str): \n",
    "    len_list = len(list_of_str)\n",
    "    class_list = []\n",
    "    for ls in list_of_str: \n",
    "        class_list.append(classify_with_vader(ls))\n",
    "    num_pos = class_list.count('Positive')\n",
    "    num_neg = class_list.count('Negative')\n",
    "    num_neu = class_list.count('Neutral')\n",
    "    return {'Positive': num_pos/len_list, 'Negative': num_neg/len_list, 'Neutral': num_neu/len_list}\n",
    "\n",
    "vader_results = get_vader_results(preprocess_arts)\n",
    "vader_results"
   ]
  },
  {
   "cell_type": "markdown",
   "id": "eb99b719-8752-4e53-ac4a-59b3c025595e",
   "metadata": {},
   "source": [
    "Below, we use the TextBlob model to conduct sentiment analysis. Here, we apply the textblob object to each of our article summaries to get the classification. We then return the frequency of each label to the user. "
   ]
  },
  {
   "cell_type": "code",
   "execution_count": 36,
   "id": "c3ba6dc1-8876-4804-bc4b-f767c3eb511a",
   "metadata": {},
   "outputs": [
    {
     "data": {
      "text/plain": [
       "{'Positive': 0.5, 'Negative': 0.16, 'Neutral': 0.34}"
      ]
     },
     "execution_count": 36,
     "metadata": {},
     "output_type": "execute_result"
    }
   ],
   "source": [
    "# Step 3: textblob\n",
    "def classify_with_textblob(tweet):\n",
    "    analysis = TextBlob(tweet)\n",
    "    polarity = analysis.sentiment.polarity\n",
    "    if polarity > 0:\n",
    "        return \"Positive\"\n",
    "    elif polarity == 0:\n",
    "        return \"Neutral\"\n",
    "    else:\n",
    "        return \"Negative\"\n",
    "\n",
    "def textblob_analysis(list_of_str): \n",
    "    num_samples = len(list_of_str)\n",
    "    ret_list = []\n",
    "    for ls in list_of_str: \n",
    "        sent = classify_with_textblob(str(ls))\n",
    "        ret_list.append(sent)\n",
    "    return {'Positive': len([val for val in ret_list if val == 'Positive']) / num_samples, 'Negative': len([val for val in ret_list if val == 'Negative']) / num_samples, 'Neutral': len([val for val in ret_list if val == 'Neutral']) / num_samples}\n",
    "\n",
    "textblob_results = textblob_analysis(preprocess_arts)\n",
    "textblob_results"
   ]
  },
  {
   "cell_type": "markdown",
   "id": "de340a7e-b5b1-4d87-8e87-63367e4ac28d",
   "metadata": {},
   "source": [
    "Below, we write the code to plot the results of our sentiment analysis models. This allows us to enter a dictionary of the classfications to view the reuslts. "
   ]
  },
  {
   "cell_type": "code",
   "execution_count": 38,
   "id": "4c0f1c36-0f09-4c64-a876-1806266bd1f5",
   "metadata": {},
   "outputs": [],
   "source": [
    "import matplotlib.pyplot as plt #chatgpt\n",
    "\n",
    "def plot_results(dict_of_sent, name):\n",
    "    plt.bar(dict_of_sent.keys(), dict_of_sent.values())\n",
    "    plt.title(f'Results of {name} for Sentiment Analysis')\n",
    "    plt.xlabel('Classification')\n",
    "    plt.ylabel('Proportion')\n",
    "    plt.show()\n"
   ]
  },
  {
   "cell_type": "markdown",
   "id": "776315b4-55eb-4245-9bce-6b0c1b091058",
   "metadata": {},
   "source": [
    "Below is the results for our VADER model. It labeled each article as being neutral. "
   ]
  },
  {
   "cell_type": "code",
   "execution_count": 40,
   "id": "b81f6ed1-4add-4a8c-935b-fa0b613f9e47",
   "metadata": {},
   "outputs": [
    {
     "data": {
      "image/png": "[encoded data removed]",
      "text/plain": [
       "<Figure size 640x480 with 1 Axes>"
      ]
     },
     "metadata": {},
     "output_type": "display_data"
    }
   ],
   "source": [
    "plot_results(vader_results, 'VADER')"
   ]
  },
  {
   "cell_type": "markdown",
   "id": "d03ba1e9-78e8-4172-a5d0-90e7cca8f5f8",
   "metadata": {},
   "source": [
    "Below is the results for our TextBlob model. It returned 42% of the articles as positive, 34% as negative, and 24% as neutral. "
   ]
  },
  {
   "cell_type": "code",
   "execution_count": 42,
   "id": "d7697b46-3d8d-4aef-b0d6-391b872955df",
   "metadata": {},
   "outputs": [
    {
     "data": {
      "image/png": "[encoded data removed]",
      "text/plain": [
       "<Figure size 640x480 with 1 Axes>"
      ]
     },
     "metadata": {},
     "output_type": "display_data"
    }
   ],
   "source": [
    "plot_results(textblob_results, 'TextBlob')"
   ]
  },
  {
   "cell_type": "markdown",
   "id": "a9ba8227",
   "metadata": {},
   "source": [
    "Part 4\n",
    "\n",
    "Here, we will make the Advanced Sentiment Analysis using BERT (Transformers). To accomplish this, we use the BERT base model that is uncased. We then utilzie the BERT specific tokenization to classify each tweet using this pretrained model. "
   ]
  },
  {
   "cell_type": "code",
   "execution_count": 56,
   "id": "6c488c7d",
   "metadata": {},
   "outputs": [
    {
     "name": "stderr",
     "output_type": "stream",
     "text": [
      "C:\\Users\\jack.hernon\\AppData\\Local\\anaconda3\\Lib\\site-packages\\transformers\\tokenization_utils_base.py:1601: FutureWarning: `clean_up_tokenization_spaces` was not set. It will be set to `True` by default. This behavior will be depracted in transformers v4.45, and will be then set to `False` by default. For more details check this issue: https://github.com/huggingface/transformers/issues/31884\n",
      "  warnings.warn(\n",
      "Some weights of BertForSequenceClassification were not initialized from the model checkpoint at bert-base-uncased and are newly initialized: ['classifier.bias', 'classifier.weight']\n",
      "You should probably TRAIN this model on a down-stream task to be able to use it for predictions and inference.\n"
     ]
    },
    {
     "data": {
      "image/png": "[encoded data removed]",
      "text/plain": [
       "<Figure size 640x480 with 1 Axes>"
      ]
     },
     "metadata": {},
     "output_type": "display_data"
    }
   ],
   "source": [
    "# Import the necessary libraries from HuggingFace and PyTorch\n",
    "from transformers import BertTokenizer, BertForSequenceClassification\n",
    "import torch\n",
    "\n",
    "# Load the pre-trained BERT tokenizer and model for sequence classification\n",
    "tokenizer = BertTokenizer.from_pretrained('bert-base-uncased')\n",
    "model = BertForSequenceClassification.from_pretrained('bert-base-uncased', num_labels=3)  # 3 labels for positive, negative, neutral\n",
    "\n",
    "# Function to preprocess and take a certain tweet and determine classification\n",
    "def classify_tweet_BERT(tweet):\n",
    "    # Tokenize the input tweet and create a tensor\n",
    "    inputs = tokenizer(tweet, return_tensors=\"pt\", max_length=128, truncation=True, padding='max_length')\n",
    "    \n",
    "    with torch.no_grad():\n",
    "        outputs = model(**inputs)\n",
    "    \n",
    "    # Extract logits from the outputs\n",
    "    logits = outputs.logits\n",
    "\n",
    "    # Get the predicted sentiment (0: Negative, 1: Neutral, 2: Positive)\n",
    "    predicted_label = torch.argmax(logits, dim=1).item()\n",
    "\n",
    "    # Map the predicted label to a human-readable sentiment\n",
    "    sentiment = [\"Negative\", \"Neutral\", \"Positive\"][predicted_label]\n",
    "    return sentiment\n",
    "\n",
    "def classify_BERT(list_of_lists): \n",
    "    num_samples = len(list_of_lists)\n",
    "    ret_list = []\n",
    "    for ls in list_of_lists: \n",
    "        sent = classify_tweet_BERT(ls)\n",
    "        ret_list.append(sent)\n",
    "    return {'Positive': len([val for val in ret_list if val == 'Positive']) / num_samples, 'Negative': len([val for val in ret_list if val == 'Negative']) / num_samples, 'Neutral': len([val for val in ret_list if val == 'Neutral']) / num_samples}\n",
    "\n",
    "BERT_results = classify_BERT(preprocess_arts)\n",
    "\n",
    "plot_results(BERT_results, 'BERT')"
   ]
  },
  {
   "cell_type": "markdown",
   "id": "e30ef239",
   "metadata": {},
   "source": [
    "Now that we can classify tweets using BERT, we will compare the results of textblob, and VADER to BERT using the below function:"
   ]
  },
  {
   "cell_type": "code",
   "execution_count": 54,
   "id": "51ec5fa2",
   "metadata": {},
   "outputs": [
    {
     "name": "stdout",
     "output_type": "stream",
     "text": [
      "\n",
      "Tweet/Event: SUV Volkswagen Scouting Electric vehicle Pickup truck vehicle International Harvester Scout chief executive officer International Harvester Rivian South Carolina Ford Bronco Volkswagen Group United States Navistar drive Truck Rivian r1 T Electric car Minnesota Jeep Wrangler Ute vehicle Ford Motor Company Donald Trump Germany Compass Jeep Columbia South Carolina\n",
      "BERT Sentiment: Neutral\n",
      "TextBlob Sentiment: Neutral\n",
      "VADER Sentiment: Positive\n",
      "\n",
      "Tweet/Event: Donald Trump Kamala Harris CNN Jen Dillon Joe Biden Democratic Party United States Vice President United States Republican Party United States 2016 United States presidential debate 2016 United States presidential election American Broadcasting Company Wilmington North Carolina Truth Social North Carolina United States Donald Trump 2016 presidential campaign Philadelphia early vote ABC News Atlanta Georgia Twitter Swing state social medium 2020 United States presidential debate Tim Walz Election Day United States White House\n",
      "BERT Sentiment: Negative\n",
      "TextBlob Sentiment: Positive\n",
      "VADER Sentiment: Positive\n",
      "\n",
      "Tweet/Event: Stellantis Italy Syndicate Strike action Fiat Automobiles Car Automotive industry Giorgia Meloni Government Groupe PSA Nationalism Fiat 500 Turin Termoli Desertification offshore Unemployment Battery pack Electric car Europe TotalEnergies Autonomy Joint venture\n",
      "BERT Sentiment: Neutral\n",
      "TextBlob Sentiment: Positive\n",
      "VADER Sentiment: Negative\n",
      "\n",
      "Tweet/Event: Automobiles Alpine Crossover automobile Renault Fastback Paris Sports car Alpine A110 Electric car SUV Compact car hot hatch Porsche Macan Auto show Common Module Family France Paris Motor Show Nissan Ariya Electric vehicle Renault Scénic Coupe Hydrogen vehicle Prototype Horsepower\n",
      "BERT Sentiment: Neutral\n",
      "TextBlob Sentiment: Negative\n",
      "VADER Sentiment: Neutral\n",
      "\n",
      "Tweet/Event: FRELIMO Mozambique RENAMO Ossufo Momade Cabo Delgado Province Province Independence TotalEnergies Islam liquefy natural gas constitutional law Governor Independent politician University Inhambane General election Democratic Movement Mozambique Civil war Electoral fraud Democratic Alliance South Africa Daviz Simango Coalition Australia Member parliament Democratic Party United States Maputo\n",
      "BERT Sentiment: Negative\n",
      "TextBlob Sentiment: Positive\n",
      "VADER Sentiment: Negative\n",
      "\n",
      "Tweet/Event: skin care Nicotinamide Skin Essence magazine Amazon company Mucin Dehydration PR Newswire Acne Serum blood Cream TikTok Peptide vitamin c Ulta Beauty Nordstrom Target Corporation Instagram Oil Dermstore Amazon Prime\n",
      "BERT Sentiment: Neutral\n",
      "TextBlob Sentiment: Neutral\n",
      "VADER Sentiment: Positive\n",
      "\n",
      "Tweet/Event: tariff China European Union Member state European Union Electric vehicle Beijing Germany Valdis Dombrovskis Trade war World Trade Organization Subsidy European Commission Wang Wentao Spain Bloomberg Prime Minister Spain Pedro Sánchez Protectionism Pork Supermajority Hungary Robert Habeck Berlin Donald Trump Mette Frederiksen Prime Minister Denmark Europe Italy Denmark\n",
      "BERT Sentiment: Negative\n",
      "TextBlob Sentiment: Neutral\n",
      "VADER Sentiment: Negative\n",
      "\n",
      "Tweet/Event: SUV Kia Kia EV9 India Electric vehicle Electric battery South Korea drive Electric car Kia EV6 Hyundai Motor Company Tax credit Auto Expo Headlamp Torque kit Sunroof Hyundai Ioniq 5 drive Grand tourer Hyundai Electric Global Modular Platform Drivetrain Wheelbase West Point Georgia Hyundai Motor Group\n",
      "BERT Sentiment: Neutral\n",
      "TextBlob Sentiment: Positive\n",
      "VADER Sentiment: Negative\n",
      "\n",
      "Tweet/Event: associate professor Protein National University Singapore Cancer Tetris interaction Diagnosis Barcode DNA target therapy Neoplasm DNA nanotechnology Binary number Biomedical engineering scientific journal Hybrid biology Nature journal Cancer cell Biology Medicine Molecular geometry\n",
      "BERT Sentiment: Neutral\n",
      "TextBlob Sentiment: Neutral\n",
      "VADER Sentiment: Negative\n",
      "\n",
      "Tweet/Event: Europe China Stellantis Carbon Euro Joint venture sport utility vehicle electric vehicle Worldwide Harmonised Light Vehicles Test Procedure Energy Technology Spain Automotive industry Battery electric vehicle France\n",
      "BERT Sentiment: Neutral\n",
      "TextBlob Sentiment: Positive\n",
      "VADER Sentiment: Positive\n",
      "\n",
      "Tweet/Event: wicked musical Pet Toy Muscarinic acetylcholine receptor M3 PR Newswire Quality life Anxiety Cat Carpet Environmentally friendly Shell plc List price Amazon company\n",
      "BERT Sentiment: Neutral\n",
      "TextBlob Sentiment: Positive\n",
      "VADER Sentiment: Negative\n",
      "\n",
      "Tweet/Event: China Renminbi Euro Investor Anhui fund Hefei Investment Financial transaction Holding company Exchange organize market Morgan Stanley United States dollar\n",
      "BERT Sentiment: Neutral\n",
      "TextBlob Sentiment: Neutral\n",
      "VADER Sentiment: Positive\n",
      "\n",
      "Tweet/Event: Stellantis Europe Joint venture China Technology Euro Partnership France Automotive industry Constitution Netherlands chief executive officer Greece Germany Belgium Carlos Tavares Malta Luxembourg Romania Portugal United Kingdom Spain Switzerland Asia South America Middle East Africa Thailand New Zealand Euro Car Segment Sport utility vehicle Comfort Pacific Ocean Research development Segmento B Casa automobilistica Electronics\n",
      "BERT Sentiment: Neutral\n",
      "TextBlob Sentiment: Positive\n",
      "VADER Sentiment: Positive\n",
      "\n",
      "Tweet/Event: Shanghai Germany Oriental Pearl Tower Tourism Shizhong District Jinan Skyline PR Newswire Mayor Chinese Communist Party Physics China secondary school Viktor Claesson Creativity Aesthetics Geometry Huangpu River Triangle\n",
      "BERT Sentiment: Neutral\n",
      "TextBlob Sentiment: Negative\n",
      "VADER Sentiment: Positive\n",
      "\n",
      "Tweet/Event: Andritz AG Welding Bipolar junction transistor Karlskoga Switzerland pr Newswire Sweden sustainable energy Vice president Patent Production line chief executive officer Email Nasdaq First North Electrolysis Hydropower Pulp paper fuel cell Electric power public company Sustainability environmentally friendly Infrared Velocity\n",
      "BERT Sentiment: Neutral\n",
      "TextBlob Sentiment: Positive\n",
      "VADER Sentiment: Positive\n",
      "\n",
      "Tweet/Event: Brandenburg Social Democratic Party Germany Landtag Municipality Advocacy group Sahra Wagenknecht Landesregierung Deutschland Economic policy independent politician Konstituierende Sitzung Government budget Mayor Bureaucracy Minimum wage Duales Studium\n",
      "BERT Sentiment: Negative\n",
      "TextBlob Sentiment: Positive\n",
      "VADER Sentiment: Positive\n",
      "\n",
      "Tweet/Event: mining Digital asset institutional investor Singapore Bitmain Nasdaq New York state chief financial officer GlobeNewswire Barriers entry proprietary software business model Bitcoin Compound annual growth rate Depreciation Pipeline transport Continent Thailand Bitcoin network Cloud compute Blockchain Safe harbor law Private Securities Litigation Reform Act United States\n",
      "BERT Sentiment: Neutral\n",
      "TextBlob Sentiment: Positive\n",
      "VADER Sentiment: Positive\n",
      "\n",
      "Tweet/Event: computer security Endpoint security Bitdefender Check Point ESET Palo Alto Networks Kaspersky Lab CrowdStrike advanced persistent threat Metasploit Attack vector PowerShell Mitre Corporation Austria Cyberattack Virus Bulletin Ransomware PR Newswire Information technology Dublin Software\n",
      "BERT Sentiment: Neutral\n",
      "TextBlob Sentiment: Positive\n",
      "VADER Sentiment: Negative\n",
      "\n",
      "Tweet/Event: FPT Software Vietnam Information technology Europe FPT Corporation Americas Japan Artificial intelligence Automotive industry Gender equality Cloud compute Semiconductor Asia vietnamese đồng Coursera Information communication technology chief human resource officer PwC Boston Consulting Group KPMG Ernst Young Consulting firm Germany internet thing Fortune Global 500 Logistics Manufacturing Subsidiary United States Philippines\n",
      "BERT Sentiment: Neutral\n",
      "TextBlob Sentiment: Negative\n",
      "VADER Sentiment: Positive\n",
      "\n",
      "Tweet/Event: CVS Health Hedge fund Wall Street Journal Glenview Illinois Pharmacy Health care Larry Robbins Glenview Capital Management Shareholder chief executive officer Aetna Insurance P 500 Index Health insurance institutional investor Pharmacy benefit management Market capitalization Stock Tesla Nvidia Medicare United States Activist shareholder Board director Layoff Artificial intelligence Teva Pharmaceuticals Federal Trade Commission China Meta Platforms Alphabet Amazon company Dollar Tree Dollar General Microsoft Apple Shanghai\n",
      "BERT Sentiment: Neutral\n",
      "TextBlob Sentiment: Negative\n",
      "VADER Sentiment: Positive\n",
      "\n",
      "Tweet/Event: chaos theory chief executive officer Disaster recovery Information technology business continuity planning Scalability Engineering Resilience network Fault geology Holism Emergency management\n",
      "BERT Sentiment: Neutral\n",
      "TextBlob Sentiment: Neutral\n",
      "VADER Sentiment: Negative\n",
      "\n",
      "Tweet/Event: initial public offer KinderCare Learning Centers Goldman Sachs New York Stock Exchange Valuation finance Barclays Morgan Stanley underwrite private equity firm Securities Exchange Commission Partners Group Morgan Lake Oswego Oregon United States Market capitalization Washington Switzerland JPMorgan Chase chief executive officer Wall Street Reuters\n",
      "BERT Sentiment: Neutral\n",
      "TextBlob Sentiment: Negative\n",
      "VADER Sentiment: Positive\n",
      "\n",
      "Tweet/Event: ISO 9000 original equipment manufacturer Ford Motor Company Tesla General Motors rivian sustainable energy Hyundai Motor Company Honda Toyota Stellantis Nasdaq Nissan Certification International Organization Standardization West Seneca New York Tonneau Patent Automotive industry Aerospace Electronics economic growth Marketing competitive advantage performance indicator chief executive officer Intellectual property Audit\n",
      "BERT Sentiment: Neutral\n",
      "TextBlob Sentiment: Positive\n",
      "VADER Sentiment: Positive\n",
      "\n",
      "Tweet/Event: Lithuania Belarus International Criminal Court Alexander Lukashenko Crimes humanity Deportation Hague Sviatlana Tsikhanouskaya Belarusians Crime Torture Jurisdiction Prosecutor International Space Station belarusian opposition Rome Statute International Criminal Court Exile Belarus Vilnius Opposition politic Russia Population transfer Soviet Union Dictator Vladimir Putin Autocracy Government Lithuania President Belarus European Union Ukraine\n",
      "BERT Sentiment: Negative\n",
      "TextBlob Sentiment: Negative\n",
      "VADER Sentiment: Negative\n",
      "\n",
      "Tweet/Event: Wing Chun Guangdong Dance London Cantonese opera China Shenzhen United Kingdom Guangzhou Sadler Wells Theatre intangible cultural heritage cantonese culture Dragon boat Lingnan Panyu District Consul representative chinese martial art Visual art Esports Animation Customs Shandong Special administrative region China Marco Polo South Korea Japan Teochew dialect Hakka people Cantonese Ceramic Opera Cuisine\n",
      "BERT Sentiment: Negative\n",
      "TextBlob Sentiment: Positive\n",
      "VADER Sentiment: Positive\n",
      "\n",
      "Tweet/Event: Social Democratic Party Germany Brandenburg Political alliance Landtag Sahra Wagenknecht Landesregierung Deutschland Advocacy group Potsdam Alternative Germany Kaderpartei Minimum wage bureaucracy\n",
      "BERT Sentiment: Negative\n",
      "TextBlob Sentiment: Positive\n",
      "VADER Sentiment: Positive\n",
      "\n",
      "Tweet/Event: niche company\n",
      "BERT Sentiment: Negative\n",
      "TextBlob Sentiment: Neutral\n",
      "VADER Sentiment: Neutral\n",
      "\n",
      "Tweet/Event: generation Z Nostalgia Internet celebrity Peacock streaming service retro style stream medium real estate investment trust Simple Minds Netflix Forget Brick mortar Hulu Soundtrack Pound sterling Breakfast Club radio show come age TikTok Instagram YouTube Simon Property Group Cardi B OneRepublic Billie Eilish Zeitgeist\n",
      "BERT Sentiment: Negative\n",
      "TextBlob Sentiment: Positive\n",
      "VADER Sentiment: Positive\n",
      "\n",
      "Tweet/Event: Photovoltaics Indonesia Supplementum Epigraphicum Graecum industrial park ingot Wafer electronics Silicon Vertical integration Central Java Extravehicular activity pr Newswire local government Value chain Commander Solar cell Supply chain Solar panel Greenhouse gas emission Modular design Houston renewable energy industry Government Indonesia Southeast Asia economic development renewable energy foreign direct investment\n",
      "BERT Sentiment: Neutral\n",
      "TextBlob Sentiment: Positive\n",
      "VADER Sentiment: Positive\n",
      "\n",
      "Tweet/Event: China Ford Motor Company Apple United States Chinese Communist Party Tesla chief executive officer Beijing Xinjiang Public company Carrier Global Air conditioning\n",
      "BERT Sentiment: Negative\n",
      "TextBlob Sentiment: Neutral\n",
      "VADER Sentiment: Positive\n",
      "\n",
      "Tweet/Event: unmanned aerial vehicle Russia Ukraine Kyiv Missile Starlink warfare HESA shahe 136 Elon Musk Armed Forces Ukraine Belarus Kyiv russian Armed Forces Military Iran electronic warfare Loitering munition Ministry Defence Russia United States Air Force Internet Drone warfare Kamikaze Strike action Telegram message service unmanned combat aerial vehicle Imperial Russian Army Vladimir Putin United States Kharkiv Poltava Sumy Oblast Crimea\n",
      "BERT Sentiment: Neutral\n",
      "TextBlob Sentiment: Neutral\n",
      "VADER Sentiment: Negative\n",
      "\n",
      "Tweet/Event: East Los Angeles California Cannabis shop Security guard Whittier Boulevard Los Angeles County Sheriff Department\n",
      "BERT Sentiment: Neutral\n",
      "TextBlob Sentiment: Neutral\n",
      "VADER Sentiment: Positive\n",
      "\n",
      "Tweet/Event: electric car Norway Car Road Combustion Industry Energy Electric battery Vehicle Density Oslo Market economic Diesel fuel Gasoline Volvo Diesel engine Toyota Ford Motor Company Gold\n",
      "BERT Sentiment: Negative\n",
      "TextBlob Sentiment: Positive\n",
      "VADER Sentiment: Positive\n",
      "\n",
      "Tweet/Event: Taiwan island Carbon Energy source energy conservation 清洁能源 sustainable development Artificial intelligence Taiwan Electric power Ministry Economic Affairs Taiwan Solar energy Press conference Taiwan External Trade Development Council renewable energy climate variability change Semiconductor 秘書長 Energy Electric battery Formosa Plastics Group Finance Sosai House General manager Nangang District Taipei Tesla Inc\n",
      "BERT Sentiment: Neutral\n",
      "TextBlob Sentiment: Negative\n",
      "VADER Sentiment: Positive\n",
      "\n",
      "Tweet/Event: Volkswagen BMW Shock absorber Germany Porsche Exchange organize market China Euro Oliver Blume Frankfurt Car Automotive industry Stellantis Profit margin IG Metall Volkswagen Commercial Vehicles Traton Shareholder Porsche SE\n",
      "BERT Sentiment: Negative\n",
      "TextBlob Sentiment: Neutral\n",
      "VADER Sentiment: Positive\n",
      "\n",
      "Tweet/Event: Texas Greg Abbott Securities Exchange Commission Rick Perry Stock exchange chief executive officer Nasdaq Dallas\n",
      "BERT Sentiment: Neutral\n",
      "TextBlob Sentiment: Neutral\n",
      "VADER Sentiment: Positive\n",
      "\n",
      "Tweet/Event: Mesoblast Inflammation Allotransplantation Food Drug Administration Shareholder United States dollar american depositary receipt Convertible bond Common stock disease australian dollar Convertible chief executive officer United States Nasdaq Cell therapy Mesenchyme Stromal cell Cryopreservation Australian Securities Exchange Intellectual property Europe Singapore Australia LinkedIn Twitter Japan China\n",
      "BERT Sentiment: Neutral\n",
      "TextBlob Sentiment: Neutral\n",
      "VADER Sentiment: Positive\n",
      "\n",
      "Tweet/Event: Fintech Settlement litigation chief executive officer indian rupee Misappropriation Crore New Delhi Deepak Gupta judge Jainism Delhi Police Human settlement Fraud Complaint social medium first information report Human resource Lawsuit Damages Stakeholder corporate India Shareholder Suresh Jain Lakh News Service Delhi High Court\n",
      "BERT Sentiment: Neutral\n",
      "TextBlob Sentiment: Positive\n",
      "VADER Sentiment: Negative\n",
      "\n",
      "Tweet/Event: mobile app Uber San Francisco Startup company compute Email Twitter QR code IOS Android operating system\n",
      "BERT Sentiment: Neutral\n",
      "TextBlob Sentiment: Neutral\n",
      "VADER Sentiment: Neutral\n",
      "\n",
      "Tweet/Event: Pinellas County Florida Tesla Electric vehicle Florida Hurricane Helene 1958 Seawater Tropical cyclone Flood Southeastern United States Facebook North Carolina County United States Electric car Georgia state Elon Musk Joe Biden Carolinas Landfall Golf cart Electric battery Tennessee Storm surge battery Big Bend Florida\n",
      "BERT Sentiment: Neutral\n",
      "TextBlob Sentiment: Neutral\n",
      "VADER Sentiment: Positive\n",
      "\n",
      "Tweet/Event: Volvo European Union Bloomberg News Brussels Electric vehicle Rivian Uber Carbon footprint ikea chief executive officer Sweden Electrification Europe South Asia Volkswagen Group Volkswagen China Stellantis Giorgia Meloni Carbon neutrality Biofuel BMW Italy Nevada\n",
      "BERT Sentiment: Neutral\n",
      "TextBlob Sentiment: Neutral\n",
      "VADER Sentiment: Neutral\n",
      "\n",
      "Tweet/Event: unmanned aerial vehicle Elon Musk China Entrepreneurship Social networking service United States Twitter World billionaire Tesla Inc\n",
      "BERT Sentiment: Neutral\n",
      "TextBlob Sentiment: Positive\n",
      "VADER Sentiment: Positive\n",
      "\n",
      "Tweet/Event: Serbia China Belgrade Nikola Tesla Europe Airport Balkans Jat Airways State polity Hong Kong Milan Tourism\n",
      "BERT Sentiment: Neutral\n",
      "TextBlob Sentiment: Neutral\n",
      "VADER Sentiment: Neutral\n",
      "\n",
      "Tweet/Event: generative artificial intelligence Fujitsu Master Laws japanese language platform service large language model Desktop computer Benchmark compute Japan Creativity Productivity\n",
      "BERT Sentiment: Neutral\n",
      "TextBlob Sentiment: Negative\n",
      "VADER Sentiment: Positive\n",
      "\n",
      "Tweet/Event: Dubai World Trade Centre Momentus space Event management Emirate Ras Al Khaimah Benchmarking Vice president PR Newswire Dubai Alexandrov Vladimir Oblast Data analysis Logistics Middle East chief executive officer United Arab Emirates Stakeholder corporate Free economic zone United Arab Emirates dirham Europe Middle East Africa Public relation Inauguration high education International trade real estate North America United States\n",
      "BERT Sentiment: Neutral\n",
      "TextBlob Sentiment: Positive\n",
      "VADER Sentiment: Positive\n",
      "\n",
      "Tweet/Event: Europe China European Union BYD Auto SAIC Motor Tariff Automotive industry MG Cars Electric vehicle hybrid United Kingdom Bloomberg News Battery electric vehicle Electric car Stellantis Tesla BMW Brussels Beijing Chery Euro Norway Germany Group Volvo EX30 Polestar Li Shufu European Free Trade Association geely Volvo Renault Barcelona Slovakia Sweden Hungary Spain\n",
      "BERT Sentiment: Neutral\n",
      "TextBlob Sentiment: Positive\n",
      "VADER Sentiment: Positive\n",
      "\n",
      "Tweet/Event: Levi Strauss Beyoncé Jeans Denim Americana music United States Melina Matsoukas hear Grapevine Nick Kamen Post Malone Social medium Marketing Paris San Francisco Underwear laundry Cowboy Cultural icon Cowboy hat New York City Chicago Houston Atlanta Georgia Berlin London Emmy Awards Billboard chart Iconography chief marketing officer Diamond Instagram Model person Cinematographer Washing machine Los Angeles Marvin Gaye Destiny Child\n",
      "BERT Sentiment: Neutral\n",
      "TextBlob Sentiment: Positive\n",
      "VADER Sentiment: Positive\n",
      "\n",
      "Tweet/Event: Kao Corporation Charoen Pokphand Thailand Memorandum understand chief executive officer convenience store Conglomerate company Supermarket environmentally friendly Shampoo Thai people Dengue fever Multimedia Sharp Corporation Organic compound Southeast Asia Business model Commodity Sustainability Environmental issue Philosophy Agriculture Molton Brown Oceania Concrete japanese yen Asia Europe North America\n",
      "BERT Sentiment: Neutral\n",
      "TextBlob Sentiment: Positive\n",
      "VADER Sentiment: Positive\n",
      "\n",
      "Tweet/Event: Concrete Granite Skyscraper Carbon dioxide Cement Manhattan Rock geology Basalt Earth Foster Partners Building material New York City Severud Associates Portland cement sustainability building Calcium Silicon Limestone Aluminium Greenhouse gas emission compressive strength Zeolite Green building Portland Oregon Park Avenue\n",
      "BERT Sentiment: Negative\n",
      "TextBlob Sentiment: Positive\n",
      "VADER Sentiment: Positive\n",
      "\n",
      "Tweet/Event: Greece Wildfire Firefighter Athens Corinth Peloponnese Xylokastro Fire department Greek language Hellenic Police Conflagration Governor Hellenic Broadcasting Corporation Central Greece Peninsula Police Elliniko Forest Wind pyrgo Elis Corinthia Constantine Great Mountain Peloponnese region Constantina Port Firefighting Rain Aircraft Reuters Akrata Patras Helicopter Aerial firefighting Mediterranean Sea Climate change\n",
      "BERT Sentiment: Neutral\n",
      "TextBlob Sentiment: Positive\n",
      "VADER Sentiment: Positive\n"
     ]
    }
   ],
   "source": [
    "# Function to compare results from all models\n",
    "def compare_sentiments(tweet):\n",
    "    print(f\"\\nTweet/Event: {tweet}\")\n",
    "    \n",
    "    # BERT sentiment\n",
    "    bert_sentiment = classify_tweet_BERT(tweet)\n",
    "    print(f\"BERT Sentiment: {bert_sentiment}\")\n",
    "    \n",
    "    # TextBlob sentiment analisis\n",
    "    textblob_sentiment = classify_with_textblob(tweet)\n",
    "    print(f\"TextBlob Sentiment: {textblob_sentiment}\")\n",
    "    \n",
    "    # VADER sentiment analysis\n",
    "    vader_sentiment = classify_with_vader(tweet)\n",
    "    print(f\"VADER Sentiment: {vader_sentiment}\")\n",
    "\n",
    "# Processed summaries as sentences for sentiment analysis\n",
    "# Run sentiment analysisevent summaries for all sentences\n",
    "for sentence in preprocess_arts:\n",
    "    compare_sentiments(sentence)\n"
   ]
  },
  {
   "cell_type": "code",
   "execution_count": 70,
   "id": "16538b46",
   "metadata": {},
   "outputs": [
    {
     "data": {
      "image/png": "[encoded data removed]",
      "text/plain": [
       "<Figure size 640x480 with 1 Axes>"
      ]
     },
     "metadata": {},
     "output_type": "display_data"
    }
   ],
   "source": [
    "import matplotlib.pyplot as plt\n",
    "from collections import Counter\n",
    "import numpy as np\n",
    "\n",
    "\n",
    "# Function to plot the comparison of the three models\n",
    "def plot_model_comparisons():\n",
    "\n",
    "    # Get all models    \n",
    "    models = ['VADER', 'TEXTBLOB', 'BERT']\n",
    "\n",
    "    # Compile proprtions into dictionaries \n",
    "    weights = {\n",
    "    'Positive': np.array([vader_results['Positive'], textblob_results['Positive'], BERT_results['Positive']]), \n",
    "    'Negative': np.array([vader_results['Negative'], textblob_results['Negative'], BERT_results['Negative']]), \n",
    "    'Neutral': np.array([vader_results['Neutral'], textblob_results['Neutral'], BERT_results['Neutral']])\n",
    "    }\n",
    "    \n",
    "\n",
    "    # Create stacked bars for each model\n",
    "    plt.bar(models, weights['Positive'], color = 'b')\n",
    "    plt.bar(models, weights['Negative'], bottom = weights['Positive'], color = 'r')\n",
    "    plt.bar(models, weights['Neutral'], bottom = weights['Positive'] + weights['Negative'], color = 'g')\n",
    "\n",
    "    # add labels, a legend, and a titleS\n",
    "    plt.xlabel('Models')\n",
    "    plt.ylabel('Proportion of Classifications')\n",
    "    plt.legend(['Positive', 'Negative', 'Neutral'])\n",
    "    plt.title('Comparing all Three Models')    \n",
    "    plt.show()\n",
    "# Plot the results\n",
    "plot_model_comparisons()\n"
   ]
  },
  {
   "cell_type": "markdown",
   "id": "6c091432-91f4-43f9-81c6-77b992268dd0",
   "metadata": {},
   "source": [
    "It is very evident that the TextBlob, VADER, and BERT models returned different sentiments. The VADER and Textblob models appeared to perform similarly, while the BERT model performed very differently. This could be due to the lack of fine tuning on the BERT model. In this scenario, finetuning is impossible because we do not have any labeled data specific to our dataset; this made it impossible to split the data into the testing and training segments. Additionally, it is possible BERT works better in more raw data that is not preprocessed in our way. Transforming the sentances into an incoherent collection of words could have diminished the BERT model's abiltiy to accurately classify the reviews. "
   ]
  },
  {
   "cell_type": "code",
   "execution_count": null,
   "id": "b4c1943a-8ffe-44f1-8b8a-a7b664e52717",
   "metadata": {},
   "outputs": [],
   "source": []
  }
 ],
 "metadata": {
  "kernelspec": {
   "display_name": "Python 3 (ipykernel)",
   "language": "python",
   "name": "python3"
  },
  "language_info": {
   "codemirror_mode": {
    "name": "ipython",
    "version": 3
   },
   "file_extension": ".py",
   "mimetype": "text/x-python",
   "name": "python",
   "nbconvert_exporter": "python",
   "pygments_lexer": "ipython3",
   "version": "3.11.7"
  }
 },
 "nbformat": 4,
 "nbformat_minor": 5
}
